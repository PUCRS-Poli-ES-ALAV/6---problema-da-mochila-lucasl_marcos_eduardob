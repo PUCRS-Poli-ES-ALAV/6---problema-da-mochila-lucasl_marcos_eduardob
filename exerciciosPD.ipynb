{
 "cells": [
  {
   "cell_type": "markdown",
   "id": "e0061790",
   "metadata": {},
   "source": [
    "# Exercícios 1-5"
   ]
  }
 ],
 "metadata": {
  "language_info": {
   "name": "python"
  }
 },
 "nbformat": 4,
 "nbformat_minor": 5
}

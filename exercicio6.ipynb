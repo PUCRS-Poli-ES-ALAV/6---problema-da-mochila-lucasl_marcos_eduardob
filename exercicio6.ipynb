{
 "cells": [
  {
   "cell_type": "markdown",
   "id": "9c8ce7b7",
   "metadata": {},
   "source": [
    "# Problema da Distância de Edição"
   ]
  },
  {
   "cell_type": "code",
   "execution_count": 22,
   "id": "66b025ee",
   "metadata": {},
   "outputs": [
    {
     "name": "stdout",
     "output_type": "stream",
     "text": [
      "Distância de edição: 718\n",
      "Número de chamadas recursivas: 741841909\n"
     ]
    }
   ],
   "source": [
    "def ED(S, T, i, j, contador):\n",
    "    contador[0] += 1\n",
    "    # Caso base\n",
    "    if i == 0:\n",
    "        return j\n",
    "    if j == 0:\n",
    "        return i\n",
    "\n",
    "    # Sem custo se os caracteres são iguais\n",
    "    if S[i - 1] == T[j - 1]:\n",
    "        return ED(S, T, i - 1, j - 1, contador)\n",
    "    else:\n",
    "        sub = ED(S, T, i - 1, j - 1, contador)   # Substituição\n",
    "        ins = ED(S, T, i, j - 1, contador)       # Insere\n",
    "        rem = ED(S, T, i - 1, j, contador)       # Remove\n",
    "\n",
    "        # Retorna o menor custo , 1\n",
    "        return 1 + min(sub, ins, rem)\n",
    "\n",
    "#S = \"gato\"\n",
    "#T = \"rato\"\n",
    "\n",
    "#S = \"Casablanca\"\n",
    "#T = \"Portentoso\"\n",
    "\n",
    "S = \"Maven, a Yiddish word meaning accumulator of knowledge, began as an attempt to \"+\"simplify the build processes in the Jakarta Turbine project. There were several\" + \" projects, each with their own Ant build files, that were all slightly different.\" + \"JARs were checked into CVS. We wanted a standard way to build the projects, a clear \"+ \"definition of what the project consisted of, an easy way to publish project information\" +\"and a way to share JARs across several projects. The result is a tool that can now be\" +\"used for building and managing any Java-based project. We hope that we have created \"+\"something that will make the day-to-day work of Java developers easier and generally help \" +\"with the comprehension of any Java-based project.\";\n",
    "       \n",
    "T = \"This post is not about deep learning. But it could be might as well. This is the power of \" +\"kernels. They are universally applicable in any machine learning algorithm. Why you might\",\"ask? I am going to try to answer this question in this article.\"+\"Go to the profile of Marin Vlastelica Pogančić\",\"Marin Vlastelica Pogančić Jun\";\n",
    "\n",
    "contador = [0]  # Contador como lista mutável\n",
    "resultado = ED(S, T, len(S), len(T), contador)\n",
    "\n",
    "print(f\"Distância de edição: {resultado}\")\n",
    "print(f\"Número de chamadas recursivas: {contador[0]}\")\n"
   ]
  },
  {
   "cell_type": "code",
   "execution_count": null,
   "id": "d2efb9e8",
   "metadata": {},
   "outputs": [],
   "source": []
  }
 ],
 "metadata": {
  "kernelspec": {
   "display_name": "Python 3",
   "language": "python",
   "name": "python3"
  },
  "language_info": {
   "codemirror_mode": {
    "name": "ipython",
    "version": 3
   },
   "file_extension": ".py",
   "mimetype": "text/x-python",
   "name": "python",
   "nbconvert_exporter": "python",
   "pygments_lexer": "ipython3",
   "version": "3.12.1"
  }
 },
 "nbformat": 4,
 "nbformat_minor": 5
}

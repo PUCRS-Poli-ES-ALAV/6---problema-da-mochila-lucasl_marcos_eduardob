{
 "cells": [
  {
   "cell_type": "code",
   "execution_count": 15,
   "id": "b94754af",
   "metadata": {},
   "outputs": [],
   "source": [
    "def test_edit():\n",
    "    print(\"\\n=== Distância de Edição ===\")\n",
    "    casos = [\n",
    "        (\"Casablanca\", \"Portentoso\"),\n",
    "        (\"Maven, a Yiddish word meaning accumulator of knowledge, began as an attempt to \" +\n",
    "   \t\t\t\"simplify the build processes in the Jakarta Turbine project. There were several\" + \n",
    "   \t\t\t\" projects, each with their own Ant build files, that were all slightly different.\" +\n",
    "   \t\t\t\"JARs were checked into CVS. We wanted a standard way to build the projects, a clear \"+ \n",
    "   \t\t\t\"definition of what the project consisted of, an easy way to publish project information\" +\n",
    "   \t\t\t\"and a way to share JARs across several projects. The result is a tool that can now be\" +\n",
    "   \t\t\t\"used for building and managing any Java-based project. We hope that we have created \" +\n",
    "   \t\t\t\"something that will make the day-to-day work of Java developers easier and generally help \" +\n",
    "   \t\t\t\"with the comprehension of any Java-based project.\",\n",
    "         \"This post is not about deep learning. But it could be might as well. This is the power of \" +\n",
    "   \t\t\t\"kernels. They are universally applicable in any machine learning algorithm. Why you might\" +\n",
    "   \t\t\t\"ask? I am going to try to answer this question in this article.\" + \n",
    "   \t\t        \"Go to the profile of Marin Vlastelica Pogančić\" + \n",
    "   \t\t        \"Marin Vlastelica Pogančić Jun\")\n",
    "    ]\n",
    "\n",
    "    for idx, (s1, s2) in enumerate(casos, 1):\n",
    "        print(f\"\\n--- Caso {idx} ---\")\n",
    "        print(f\"Strings: {s1[:30]}... x {s2[:30]}...\")\n",
    "\n",
    "        dist_rec, iter_rec = edit_distance_recursive(s1, s2) if len(s1) < 20 and len(s2) < 20 else (\"(lento)\", \"(rapidao)\")\n",
    "        dist_dp, iter_dp = edit_distance_dp(s1, s2)\n",
    "\n",
    "        print(f\"Recursivo   Distância: {dist_rec} - Iterações: {iter_rec}\")\n",
    "        print(f\"Dinamica    Distância: {dist_dp} - Iterações: {iter_dp}\")"
   ]
  },
  {
   "cell_type": "code",
   "execution_count": 16,
   "id": "aa5b2a95",
   "metadata": {},
   "outputs": [
    {
     "name": "stdout",
     "output_type": "stream",
     "text": [
      "\n",
      "=== Distância de Edição ===\n",
      "\n",
      "--- Caso 1 ---\n",
      "Strings: Casablanca... x Portentoso...\n",
      "Recursivo   Distância: 10 - Iterações: 10100193\n",
      "Dinamica    Distância: 10 - Iterações: 100\n",
      "\n",
      "--- Caso 2 ---\n",
      "Strings: Maven, a Yiddish word meaning ... x This post is not about deep le...\n",
      "Recursivo   Distância: (lento) - Iterações: (rapidao)\n",
      "Dinamica    Distância: 557 - Iterações: 227606\n"
     ]
    }
   ],
   "source": [
    "test_edit()"
   ]
  },
  {
   "cell_type": "code",
   "execution_count": 12,
   "id": "e89a67bf",
   "metadata": {},
   "outputs": [],
   "source": [
    "def edit_distance_recursive(a, b):\n",
    "    count = [0]\n",
    "\n",
    "    def dist(i, j):\n",
    "        count[0] += 1\n",
    "        if i == 0: return j\n",
    "        if j == 0: return i\n",
    "        if a[i - 1] == b[j - 1]:\n",
    "            return dist(i - 1, j - 1)\n",
    "        return 1 + min(\n",
    "            dist(i - 1, j),\n",
    "            dist(i, j - 1), \n",
    "            dist(i - 1, j - 1) \n",
    "        )\n",
    "\n",
    "    result = dist(len(a), len(b))\n",
    "    return result, count[0]\n",
    "\n",
    "def edit_distance_dp(a, b):\n",
    "    m, n = len(a), len(b)\n",
    "    dp = [[0] * (n + 1) for _ in range(m + 1)]\n",
    "    iter_count = 0\n",
    "\n",
    "    for i in range(m + 1):\n",
    "        dp[i][0] = i\n",
    "    for j in range(n + 1):\n",
    "        dp[0][j] = j\n",
    "\n",
    "    for i in range(1, m + 1):\n",
    "        for j in range(1, n + 1):\n",
    "            iter_count += 1\n",
    "            if a[i - 1] == b[j - 1]:\n",
    "                dp[i][j] = dp[i - 1][j - 1]\n",
    "            else:\n",
    "                dp[i][j] = 1 + min(dp[i - 1][j], dp[i][j - 1], dp[i - 1][j - 1])\n",
    "\n",
    "    return dp[m][n], iter_count\n"
   ]
  }
 ],
 "metadata": {
  "kernelspec": {
   "display_name": "Python 3",
   "language": "python",
   "name": "python3"
  },
  "language_info": {
   "codemirror_mode": {
    "name": "ipython",
    "version": 3
   },
   "file_extension": ".py",
   "mimetype": "text/x-python",
   "name": "python",
   "nbconvert_exporter": "python",
   "pygments_lexer": "ipython3",
   "version": "3.12.1"
  }
 },
 "nbformat": 4,
 "nbformat_minor": 5
}
